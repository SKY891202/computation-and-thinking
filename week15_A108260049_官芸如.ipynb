{
  "nbformat": 4,
  "nbformat_minor": 0,
  "metadata": {
    "colab": {
      "name": "week15-A108260049-官芸如",
      "provenance": [],
      "collapsed_sections": [],
      "include_colab_link": true
    },
    "kernelspec": {
      "name": "python3",
      "display_name": "Python 3"
    }
  },
  "cells": [
    {
      "cell_type": "markdown",
      "metadata": {
        "id": "view-in-github",
        "colab_type": "text"
      },
      "source": [
        "<a href=\"https://colab.research.google.com/github/SKY891202/computation-and-thinking/blob/master/week15_A108260049_%E5%AE%98%E8%8A%B8%E5%A6%82.ipynb\" target=\"_parent\"><img src=\"https://colab.research.google.com/assets/colab-badge.svg\" alt=\"Open In Colab\"/></a>"
      ]
    },
    {
      "cell_type": "code",
      "metadata": {
        "id": "4HRDcLBfvpnd",
        "colab_type": "code",
        "outputId": "78147fd6-b247-4243-c6d4-a6c587885987",
        "colab": {
          "base_uri": "https://localhost:8080/",
          "height": 187
        }
      },
      "source": [
        "x = 0 \n",
        "while x < 10:\n",
        " print(\"hello\")\n",
        " x = x + 1 "
      ],
      "execution_count": 0,
      "outputs": [
        {
          "output_type": "stream",
          "text": [
            "hello\n",
            "hello\n",
            "hello\n",
            "hello\n",
            "hello\n",
            "hello\n",
            "hello\n",
            "hello\n",
            "hello\n",
            "hello\n"
          ],
          "name": "stdout"
        }
      ]
    },
    {
      "cell_type": "code",
      "metadata": {
        "id": "PlfxsmmYwuA0",
        "colab_type": "code",
        "outputId": "b7c541a0-44e6-4c6e-d90f-2cad36095ebc",
        "colab": {
          "base_uri": "https://localhost:8080/",
          "height": 187
        }
      },
      "source": [
        "times = 0 \n",
        "while times < 10: \n",
        " times = times + 1 \n",
        " print(\"這是第\", times, \"次的hello\")"
      ],
      "execution_count": 0,
      "outputs": [
        {
          "output_type": "stream",
          "text": [
            "這是第 1 次的hello\n",
            "這是第 2 次的hello\n",
            "這是第 3 次的hello\n",
            "這是第 4 次的hello\n",
            "這是第 5 次的hello\n",
            "這是第 6 次的hello\n",
            "這是第 7 次的hello\n",
            "這是第 8 次的hello\n",
            "這是第 9 次的hello\n",
            "這是第 10 次的hello\n"
          ],
          "name": "stdout"
        }
      ]
    },
    {
      "cell_type": "code",
      "metadata": {
        "id": "_clzUVQKxMar",
        "colab_type": "code",
        "outputId": "84c69cb6-b355-4859-8627-fd38f10625d0",
        "colab": {
          "base_uri": "https://localhost:8080/",
          "height": 34
        }
      },
      "source": [
        "x=5\n",
        "if x<10:\n",
        "   print(\"x小於10!\")"
      ],
      "execution_count": 0,
      "outputs": [
        {
          "output_type": "stream",
          "text": [
            "x小於10!\n"
          ],
          "name": "stdout"
        }
      ]
    },
    {
      "cell_type": "code",
      "metadata": {
        "id": "z7WAVzZJxQ3L",
        "colab_type": "code",
        "outputId": "153ef088-2eb2-4459-d24f-8f7924479cf6",
        "colab": {
          "base_uri": "https://localhost:8080/",
          "height": 34
        }
      },
      "source": [
        "x=0\n",
        "result=0\n",
        "end=50\n",
        "while result <= end:\n",
        "   x=x+1\n",
        "   result = result+x\n",
        "print(\"最後加的x是\",x)"
      ],
      "execution_count": 0,
      "outputs": [
        {
          "output_type": "stream",
          "text": [
            "最後加的x是 10\n"
          ],
          "name": "stdout"
        }
      ]
    },
    {
      "cell_type": "code",
      "metadata": {
        "id": "0xxiWtbZysfR",
        "colab_type": "code",
        "outputId": "2bc408eb-aba5-4c6a-ef82-447792c3f88d",
        "colab": {
          "base_uri": "https://localhost:8080/",
          "height": 102
        }
      },
      "source": [
        "sum=0\n",
        "x=1\n",
        "while x<11:\n",
        "   sum = sum+x\n",
        "   x = x+2\n",
        "   print(\"1+3+5+7+9\",sum)"
      ],
      "execution_count": 0,
      "outputs": [
        {
          "output_type": "stream",
          "text": [
            "1+3+5+7+9 1\n",
            "1+3+5+7+9 4\n",
            "1+3+5+7+9 9\n",
            "1+3+5+7+9 16\n",
            "1+3+5+7+9 25\n"
          ],
          "name": "stdout"
        }
      ]
    },
    {
      "cell_type": "code",
      "metadata": {
        "id": "jLTOtxzF13y_",
        "colab_type": "code",
        "outputId": "83392929-548e-47ba-889a-b03f5003dcf0",
        "colab": {
          "base_uri": "https://localhost:8080/",
          "height": 34
        }
      },
      "source": [
        "sum = 0\n",
        "i = 0\n",
        "while sum <= 1000:\n",
        " i += 1\n",
        " sum += i*i\n",
        "print('最⼩的n值為', i)\n"
      ],
      "execution_count": 0,
      "outputs": [
        {
          "output_type": "stream",
          "text": [
            "最⼩的n值為 14\n"
          ],
          "name": "stdout"
        }
      ]
    },
    {
      "cell_type": "code",
      "metadata": {
        "id": "BqwkDb2g2cC7",
        "colab_type": "code",
        "outputId": "8943cdce-5265-4d1e-97fd-e36668eb36b0",
        "colab": {
          "base_uri": "https://localhost:8080/",
          "height": 102
        }
      },
      "source": [
        "M = int(input('請輸入限制值M?')) \n",
        "factorial = 1\n",
        "i = 1\n",
        "\n",
        "while(factorial < M):\n",
        "  i = i+1\n",
        "  factorial = factorial*i\n",
        "  print(i,'階乘為',factorial,'其值大於',M)"
      ],
      "execution_count": 0,
      "outputs": [
        {
          "output_type": "stream",
          "text": [
            "請輸入限制值M?100\n",
            "2 階乘為 2 其值大於 100\n",
            "3 階乘為 6 其值大於 100\n",
            "4 階乘為 24 其值大於 100\n",
            "5 階乘為 120 其值大於 100\n"
          ],
          "name": "stdout"
        }
      ]
    },
    {
      "cell_type": "code",
      "metadata": {
        "id": "qrPI9fWF37gX",
        "colab_type": "code",
        "colab": {}
      },
      "source": [
        ""
      ],
      "execution_count": 0,
      "outputs": []
    }
  ]
}