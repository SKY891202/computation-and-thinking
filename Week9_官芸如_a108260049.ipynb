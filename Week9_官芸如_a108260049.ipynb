{
  "nbformat": 4,
  "nbformat_minor": 0,
  "metadata": {
    "colab": {
      "name": "Week9-官芸如-a108260049",
      "provenance": [],
      "include_colab_link": true
    },
    "kernelspec": {
      "name": "python3",
      "display_name": "Python 3"
    }
  },
  "cells": [
    {
      "cell_type": "markdown",
      "metadata": {
        "id": "view-in-github",
        "colab_type": "text"
      },
      "source": [
        "<a href=\"https://colab.research.google.com/github/SKY891202/computation-and-thinking/blob/master/Week9_%E5%AE%98%E8%8A%B8%E5%A6%82_a108260049.ipynb\" target=\"_parent\"><img src=\"https://colab.research.google.com/assets/colab-badge.svg\" alt=\"Open In Colab\"/></a>"
      ]
    },
    {
      "cell_type": "code",
      "metadata": {
        "id": "JQlkWPZvbqrN",
        "colab_type": "code",
        "colab": {
          "base_uri": "https://localhost:8080/",
          "height": 50
        },
        "outputId": "5ce46691-d5ce-4455-cddb-61a5191f9d09"
      },
      "source": [
        "score=int(input(\"請輸入一個成績\"))\n",
        "if score>=60:\n",
        "  print(\"很好\")\n",
        "\n"
      ],
      "execution_count": 9,
      "outputs": [
        {
          "output_type": "stream",
          "text": [
            "請輸入一個成績60\n",
            "很好\n"
          ],
          "name": "stdout"
        }
      ]
    },
    {
      "cell_type": "code",
      "metadata": {
        "id": "YcsIxupZlXVI",
        "colab_type": "code",
        "colab": {
          "base_uri": "https://localhost:8080/",
          "height": 50
        },
        "outputId": "859d3b34-b2a8-406c-fa9c-1bb69eaa76e6"
      },
      "source": [
        "cost = int(input('請輸入購買金額?'))\n",
        "if cost >= 2000:\n",
        " print(cost * 0.9)\n",
        "else:\n",
        " print(cost)"
      ],
      "execution_count": 14,
      "outputs": [
        {
          "output_type": "stream",
          "text": [
            "請輸入購買金額?2000\n",
            "1800.0\n"
          ],
          "name": "stdout"
        }
      ]
    },
    {
      "cell_type": "code",
      "metadata": {
        "id": "FEGyvXQWlk9K",
        "colab_type": "code",
        "colab": {
          "base_uri": "https://localhost:8080/",
          "height": 50
        },
        "outputId": "1d291776-eaeb-4cc4-b6a5-d689845ca41d"
      },
      "source": [
        "num = int(input('請輸入一個整數?'))\n",
        "if num % 2 == 1: \n",
        " print(num, '為奇數')\n",
        "else:\n",
        " print(num, '為偶數')"
      ],
      "execution_count": 15,
      "outputs": [
        {
          "output_type": "stream",
          "text": [
            "請輸入一個整數?13\n",
            "13 為奇數\n"
          ],
          "name": "stdout"
        }
      ]
    }
  ]
}