{
  "nbformat": 4,
  "nbformat_minor": 0,
  "metadata": {
    "colab": {
      "name": "Untitled0.ipynb",
      "provenance": [],
      "include_colab_link": true
    },
    "kernelspec": {
      "name": "python3",
      "display_name": "Python 3"
    }
  },
  "cells": [
    {
      "cell_type": "markdown",
      "metadata": {
        "id": "view-in-github",
        "colab_type": "text"
      },
      "source": [
        "<a href=\"https://colab.research.google.com/github/SKY891202/computation-and-thinking/blob/master/Untitled0.ipynb\" target=\"_parent\"><img src=\"https://colab.research.google.com/assets/colab-badge.svg\" alt=\"Open In Colab\"/></a>"
      ]
    },
    {
      "cell_type": "code",
      "metadata": {
        "id": "W7fPmGP8W39m",
        "colab_type": "code",
        "colab": {
          "base_uri": "https://localhost:8080/",
          "height": 108
        },
        "outputId": "39d1f0b1-dd1b-4273-b925-9abb55f57a6f"
      },
      "source": [
        "y1=int(input(\"請輸入第一次期中考成績\"))\n",
        "y2=int(input(\"請輸入第二次期中考成績\"))\n",
        "y3=int(input(\"請輸入期末考成績\"))\n",
        "平均=(y1+y2+y3)/3\n",
        "總分=(y1+y2+y3)\n",
        "print(\"總分為\",總分)\n",
        "print(\"平均為\",平均)"
      ],
      "execution_count": 43,
      "outputs": [
        {
          "output_type": "stream",
          "text": [
            "請輸入第一次期中考成績75\n",
            "請輸入第二次期中考成績80\n",
            "請輸入期末考成績65\n",
            "總分為 220\n",
            "平均為 73.33333333333333\n"
          ],
          "name": "stdout"
        }
      ]
    },
    {
      "cell_type": "code",
      "metadata": {
        "id": "WiPOB8EJf67X",
        "colab_type": "code",
        "colab": {
          "base_uri": "https://localhost:8080/",
          "height": 90
        },
        "outputId": "104560f8-d716-44a1-d4dd-7e668ae41d66"
      },
      "source": [
        "q=int(input(\"請輸入幾尺?\"))\n",
        "\n",
        "w=int(input(\"請輸入幾吋?\"))\n",
        "\n",
        "r=(q*12+w)*2.54\n",
        "\n",
        "print(\"轉換成公分\",r)\n"
      ],
      "execution_count": 46,
      "outputs": [
        {
          "output_type": "stream",
          "text": [
            "請輸入幾尺?5\n",
            "請輸入幾吋?8\n",
            "轉換成公分 172.72\n"
          ],
          "name": "stdout"
        },
        {
          "output_type": "execute_result",
          "data": {
            "text/plain": [
              "8"
            ]
          },
          "metadata": {
            "tags": []
          },
          "execution_count": 46
        }
      ]
    }
  ]
}