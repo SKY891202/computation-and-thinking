{
  "nbformat": 4,
  "nbformat_minor": 0,
  "metadata": {
    "colab": {
      "name": "Untitled0.ipynb",
      "provenance": [],
      "include_colab_link": true
    },
    "kernelspec": {
      "name": "python2",
      "display_name": "Python 2"
    }
  },
  "cells": [
    {
      "cell_type": "markdown",
      "metadata": {
        "id": "view-in-github",
        "colab_type": "text"
      },
      "source": [
        "<a href=\"https://colab.research.google.com/github/SKY891202/computation-and-thinking/blob/master/Untitled0.ipynb\" target=\"_parent\"><img src=\"https://colab.research.google.com/assets/colab-badge.svg\" alt=\"Open In Colab\"/></a>"
      ]
    },
    {
      "cell_type": "code",
      "metadata": {
        "id": "_qQzlTV-W8-8",
        "colab_type": "code",
        "colab": {
          "base_uri": "https://localhost:8080/",
          "height": 105
        },
        "outputId": "779730d7-6f3e-4b94-d0c7-7a05db642249"
      },
      "source": [
        "print(\"You are on a deserted island in a 2D world.\")\n",
        "print(\"Try to survive until rescue arrives!\")\n",
        "print(\"Available commands are in CAPITAL Letters.\")\n",
        "print(\"Any　other command exits the program\")\n",
        "print(\"First LOOK around...\")\n"
      ],
      "execution_count": 1,
      "outputs": [
        {
          "output_type": "stream",
          "text": [
            "You are on a deserted island in a 2D world.\n",
            "Try to survive until rescue arrives!\n",
            "Available commands are in CAPITAL Letters.\n",
            "Any　other command exits the program\n",
            "First LOOK around...\n"
          ],
          "name": "stdout"
        }
      ]
    },
    {
      "cell_type": "code",
      "metadata": {
        "id": "NOjyl6l5lM-M",
        "colab_type": "code",
        "colab": {
          "base_uri": "https://localhost:8080/",
          "height": 70
        },
        "outputId": "4ca55941-48fa-4ae3-b573-4e959221ff3c"
      },
      "source": [
        "import random \n",
        "my_choice=int(input(\"請出拳[0]剪刀[1]石頭[2]布\"))\n",
        "print(\"我出拳為\", my_choice)\n",
        "com_choice = random.randint(0,2)\n",
        "print(\"電腦出拳為\", com_choice)"
      ],
      "execution_count": 44,
      "outputs": [
        {
          "output_type": "stream",
          "text": [
            "請出拳[0]剪刀[1]石頭[2]布0\n",
            "('\\xe6\\x88\\x91\\xe5\\x87\\xba\\xe6\\x8b\\xb3\\xe7\\x82\\xba', 0)\n",
            "('\\xe9\\x9b\\xbb\\xe8\\x85\\xa6\\xe5\\x87\\xba\\xe6\\x8b\\xb3\\xe7\\x82\\xba', 1)\n"
          ],
          "name": "stdout"
        }
      ]
    },
    {
      "cell_type": "code",
      "metadata": {
        "id": "tF3IWoTuohWc",
        "colab_type": "code",
        "colab": {}
      },
      "source": [
        ""
      ],
      "execution_count": 0,
      "outputs": []
    },
    {
      "cell_type": "code",
      "metadata": {
        "id": "0KoIhfXgtRr0",
        "colab_type": "code",
        "colab": {}
      },
      "source": [
        ""
      ],
      "execution_count": 0,
      "outputs": []
    }
  ]
}