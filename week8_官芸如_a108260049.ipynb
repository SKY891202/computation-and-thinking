{
  "nbformat": 4,
  "nbformat_minor": 0,
  "metadata": {
    "colab": {
      "name": " week8-官芸如-a108260049",
      "provenance": [],
      "include_colab_link": true
    },
    "kernelspec": {
      "name": "python3",
      "display_name": "Python 3"
    }
  },
  "cells": [
    {
      "cell_type": "markdown",
      "metadata": {
        "id": "view-in-github",
        "colab_type": "text"
      },
      "source": [
        "<a href=\"https://colab.research.google.com/github/SKY891202/computation-and-thinking/blob/master/week8_%E5%AE%98%E8%8A%B8%E5%A6%82_a108260049.ipynb\" target=\"_parent\"><img src=\"https://colab.research.google.com/assets/colab-badge.svg\" alt=\"Open In Colab\"/></a>"
      ]
    },
    {
      "cell_type": "code",
      "metadata": {
        "id": "GH4-6jnYRaqZ",
        "colab_type": "code",
        "outputId": "03ae012b-2c5c-4643-e4cc-a208a2923560",
        "colab": {
          "base_uri": "https://localhost:8080/",
          "height": 85
        }
      },
      "source": [
        "s = input('請輸入一行英文句子?')\n",
        "words = s.split(' ')\n",
        "print('將英文句子以空白字元切割後,獲得單字為', words)\n",
        "s2 = ' '.join(words)\n",
        "print('以空白字元結合所有單字後,獲得句子為', s2)\n",
        "s3 = s.title()\n",
        "print('將每個單字字首轉大寫後,獲得句子為',s3)"
      ],
      "execution_count": 0,
      "outputs": [
        {
          "output_type": "stream",
          "text": [
            "請輸入一行英文句子?an apple a day keeps the doctor away\n",
            "將英文句子以空白字元切割後,獲得單字為 ['an', 'apple', 'a', 'day', 'keeps', 'the', 'doctor', 'away']\n",
            "以空白字元結合所有單字後,獲得句子為 an apple a day keeps the doctor away\n",
            "將每個單字字首轉大寫後,獲得句子為 An Apple A Day Keeps The Doctor Away\n"
          ],
          "name": "stdout"
        }
      ]
    },
    {
      "cell_type": "code",
      "metadata": {
        "id": "sz3GN12LidrG",
        "colab_type": "code",
        "colab": {}
      },
      "source": [
        "s = input('請輸入一行英文句子?')\n",
        "s.strip(' .')\n",
        "words = s.split(' ')\n",
        "print(words[::-1])"
      ],
      "execution_count": 0,
      "outputs": []
    }
  ]
}